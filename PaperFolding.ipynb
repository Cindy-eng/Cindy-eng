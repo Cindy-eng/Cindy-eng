{
  "nbformat": 4,
  "nbformat_minor": 0,
  "metadata": {
    "colab": {
      "provenance": [],
      "authorship_tag": "ABX9TyPf/RyICkgm29O1+DX7tCFP",
      "include_colab_link": true
    },
    "kernelspec": {
      "name": "python3",
      "display_name": "Python 3"
    },
    "language_info": {
      "name": "python"
    }
  },
  "cells": [
    {
      "cell_type": "markdown",
      "metadata": {
        "id": "view-in-github",
        "colab_type": "text"
      },
      "source": [
        "<a href=\"https://colab.research.google.com/github/Cindy-eng/Cindy-eng/blob/main/PaperFolding.ipynb\" target=\"_parent\"><img src=\"https://colab.research.google.com/assets/colab-badge.svg\" alt=\"Open In Colab\"/></a>"
      ]
    },
    {
      "cell_type": "code",
      "execution_count": 6,
      "metadata": {
        "colab": {
          "base_uri": "https://localhost:8080/"
        },
        "id": "yryZPpDQ9432",
        "outputId": "b1cecf35-e4a1-481a-f639-db7ca9947d15"
      },
      "outputs": [
        {
          "output_type": "stream",
          "name": "stdout",
          "text": [
            "The thickness after 43 foldes using exponentiation arithmetic operators is 703687441.77664 \n"
          ]
        }
      ],
      "source": [
        "#Implementation using exponentiation arithmetic operators\n",
        "thickness=0.00008;\n",
        "folds=43;\n",
        "folded_thickness1=thickness*(2 ** folds)\n",
        "print(f'The thickness after {folds} foldes using exponentiation arithmetic operators is {folded_thickness1} ')\n"
      ]
    },
    {
      "cell_type": "code",
      "source": [
        "distance_moon=384.400 ;\n",
        "thickness=0.00008;\n",
        "folds=43;\n",
        "folded_thickness=thickness*(2 ** folds)\n",
        "folded_thickness_km=folded_thickness/100\n",
        "folded_thickness_10km=folded_thickness_km/1000\n",
        "\n",
        "print(\"The Thickness  after fold  is {: .2f} Kilometro\".format(folded_thickness_10km))\n",
        "\n",
        "if folded_thickness_km >= distance_moon:\n",
        "  print(\"The paper is reach to the moon\")\n",
        "else:\n",
        "  print(\"the folded paper doesn't reach to the moon\")"
      ],
      "metadata": {
        "colab": {
          "base_uri": "https://localhost:8080/"
        },
        "id": "E0naXwThGfjm",
        "outputId": "9bd370f1-dbae-42da-ec8a-773d5146ad3c"
      },
      "execution_count": 22,
      "outputs": [
        {
          "output_type": "stream",
          "name": "stdout",
          "text": [
            "The Thickness  after fold  is  7036.87 Kilometro\n",
            "The paper is reach to the moon\n"
          ]
        }
      ]
    },
    {
      "cell_type": "code",
      "source": [
        "\n",
        "#Implementation using a for statement\n",
        "folds=43;\n",
        "cc=0.00008;\n",
        "folded_thickness2=0.00008;\n",
        "for i in range(folds):\n",
        "  folded_thickness2*=2\n",
        "\n",
        "print(f'The thickness after {folds} folds using a for statement is {folded_thickness2}');"
      ],
      "metadata": {
        "colab": {
          "base_uri": "https://localhost:8080/"
        },
        "id": "GLzCDNJW_31U",
        "outputId": "16f56262-a72c-433d-ef48-d3247e696142"
      },
      "execution_count": 14,
      "outputs": [
        {
          "output_type": "stream",
          "name": "stdout",
          "text": [
            "The thickness after 43 folds using a for statement is 703687441.77664\n"
          ]
        }
      ]
    }
  ]
}